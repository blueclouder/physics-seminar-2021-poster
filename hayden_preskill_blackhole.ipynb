{
 "metadata": {
  "language_info": {
   "codemirror_mode": {
    "name": "ipython",
    "version": 3
   },
   "file_extension": ".py",
   "mimetype": "text/x-python",
   "name": "python",
   "nbconvert_exporter": "python",
   "pygments_lexer": "ipython3",
   "version": "3.7.1"
  },
  "orig_nbformat": 2,
  "kernelspec": {
   "name": "python3",
   "display_name": "Python 3.7.1 64-bit ('rinko': venv)"
  },
  "metadata": {
   "interpreter": {
    "hash": "9060eb43163d85b2a9eb18d1d98b2c189a491170f1022b2dfb4e181f36ff0bb1"
   }
  },
  "interpreter": {
   "hash": "9060eb43163d85b2a9eb18d1d98b2c189a491170f1022b2dfb4e181f36ff0bb1"
  }
 },
 "nbformat": 4,
 "nbformat_minor": 2,
 "cells": [
  {
   "source": [
    "import qulacs\n",
    "from qulacs import QuantumState, QuantumCircuit\n",
    "from qulacs.state import partial_trace\n",
    "from qulacs.gate import DenseMatrix, CPTP\n",
    "import numpy as np\n",
    "import numpy.linalg as npl\n",
    "import matplotlib.pyplot as plt\n",
    "%matplotlib inline\n",
    "#import physics-tenpy\n",
    "#%load_ext wurlitzer"
   ],
   "cell_type": "code",
   "metadata": {},
   "execution_count": null,
   "outputs": []
  },
  {
   "cell_type": "code",
   "execution_count": null,
   "metadata": {},
   "outputs": [],
   "source": [
    "# utils\n",
    "def add_measurement(circuit, i, p):\n",
    "    gate_0 = DenseMatrix(i, [[np.sqrt(1-p), 0], [0, np.sqrt(1-p)]])\n",
    "    gate_1 = DenseMatrix(i, [[np.sqrt(p), 0], [0, 0]])\n",
    "    gate_2 = DenseMatrix(i, [[0, 0], [0, np.sqrt(p)]])\n",
    "    gate_list = [gate_0, gate_1, gate_2]\n",
    "    gate = CPTP(gate_list)\n",
    "    circuit.add_gate(gate)\n",
    "def add_LRC(circuit, depth, l, r):\n",
    "    #[l, r)\n",
    "    for d in range(depth):\n",
    "        for i in range(l + d % 2, r - 1, 2):\n",
    "            circuit.add_random_unitary_gate([i, i + 1])\n",
    "    return circuit\n",
    "def add_RC(circuit, depth, l, r):\n",
    "    #[l, r)\n",
    "    for d in range(depth//2):\n",
    "        for a in range(l, r):\n",
    "            b = np.random.randint(l, r)\n",
    "            while b == a:\n",
    "                b = np.random.randint(l, r)\n",
    "            circuit.add_random_unitary_gate([a, b])\n",
    "    return circuit\n",
    "def add_RLC_and_measurement(circuit, depth, l, r, p):\n",
    "    #[l, r)\n",
    "    circuit.add_random_unitary_gate(range(l, r))\n",
    "    for d in range(depth):\n",
    "        for i in range(l + d % 2, r - 1, 2):\n",
    "            circuit.add_random_unitary_gate([i, i + 1])\n",
    "        for i in range(l, r):\n",
    "            add_measurement(circuit, i, p)\n",
    "    circuit.add_random_unitary_gate(range(l, r))\n",
    "    return circuit\n",
    "def draw_graph(l, r, ave, std):\n",
    "    fig = plt.figure()\n",
    "    ax = fig.add_subplot()\n",
    "    ax.errorbar(range(l, r), ave, yerr=std, capsize=5)\n",
    "    fig.show()"
   ]
  },
  {
   "cell_type": "code",
   "execution_count": null,
   "metadata": {},
   "outputs": [],
   "source": [
    "## blackholes\n",
    "\n",
    "# [0, k): Charlie\n",
    "# [k, 2k): Alice\n",
    "# [2k, n+k): Black hole -> [k, n+k)\n",
    "def young_blackhole(n, k):\n",
    "    circuit = QuantumCircuit(n+k)\n",
    "    for i in range(k):\n",
    "        circuit.add_H_gate(i)\n",
    "        circuit.add_CNOT_gate(i, i + k)\n",
    "    circuit.add_random_unitary_gate(list(range(k, n+k)))\n",
    "    return circuit\n",
    "def LRC_young_blackhole(n, k, depth):\n",
    "    circuit = QuantumCircuit(n+k)\n",
    "    for i in range(k):\n",
    "        circuit.add_H_gate(i)\n",
    "        circuit.add_CNOT_gate(i, i + 1)\n",
    "    add_LRC(circuit, depth, k, n+k)\n",
    "    return circuit  \n",
    "def RC_young_blackhole(n, k, depth):\n",
    "    circuit = QuantumCircuit(n+k)\n",
    "    for i in range(k):\n",
    "        circuit.add_H_gate(i)\n",
    "        circuit.add_CNOT_gate(i, i + 1)\n",
    "    add_RC(circuit, depth, k, n+k)\n",
    "    return circuit \n",
    "def LRC_and_measurement_young_blackhole(n, k, depth, p):\n",
    "    circuit = QuantumCircuit(n+k)\n",
    "    for i in range(k):\n",
    "        circuit.add_H_gate(i)\n",
    "        circuit.add_CNOT_gate(i, i + 1)\n",
    "    add_RLC_and_measurement(circuit, depth, k, n+k, p)\n",
    "    return circuit \n",
    "# additional\n",
    "def old_blackhole(n, k):\n",
    "    circuit = QuantumCircuit(2 * n)\n",
    "    for i in range(k):\n",
    "        circuit.add_H_gate(i)\n",
    "        circuit.add_gate(CNOT(i, i + k))\n",
    "    for i in range(2 * k, n + k):\n",
    "        circuit.add_H_gate(i)\n",
    "        circuit.add_CNOT_gate(i, i + n - k)\n",
    "    circuit.add_random_unitary_gate(list(range(k, n+k)))\n",
    "    return circuit    "
   ]
  },
  {
   "cell_type": "code",
   "execution_count": null,
   "metadata": {},
   "outputs": [],
   "source": [
    "# simulator for young black hole\n",
    "def simulate_young(n, k, l_max, unitary_type=\"haar\", depth=-1, iter_num=10):\n",
    "    data = np.zeros((l_max + 1, iter_num))\n",
    "    for l in range(l_max + 1):\n",
    "        mat_size = pow(2, n+k-l)\n",
    "        for i in range(iter_num):\n",
    "            if i%10 == 0:\n",
    "                print(f\"l={l}:i-th iteration\")\n",
    "            state = qulacs.QuantumState(n + k)\n",
    "            if unitary_type == \"haar\":\n",
    "                circuit = young_blackhole(n, k)\n",
    "            elif unitary_type == \"RLC\":\n",
    "                circuit = LRC_young_blackhole(n, k, depth)# RCに書き換える\n",
    "            elif unitary_type == \"RC\":\n",
    "                pass\n",
    "            elif unitary_type == \"measure\":\n",
    "                circuit = LRC_and_measurement_young_blackhole(n, k, depth, 0.2)\n",
    "            circuit.update_quantum_state(state)\n",
    "            # trace out [n+k-l, n+k)\n",
    "            trace = qulacs.state.partial_trace(state, list(range(n + k - l, n + k)))\n",
    "            data[l][i] = npl.norm(trace.get_matrix() - np.identity(mat_size)/mat_size, 'nuc')\n",
    "    return data"
   ]
  },
  {
   "cell_type": "code",
   "execution_count": null,
   "metadata": {},
   "outputs": [],
   "source": [
    "data = simulate_young(9, 1, 9, iter_num=3)\n",
    "np.savetxt(\"data/young.csv\", data, delimiter=',')\n",
    "#data = np.loadtxt('data/young.csv', delimiter=',')"
   ]
  },
  {
   "cell_type": "code",
   "execution_count": null,
   "metadata": {},
   "outputs": [],
   "source": [
    "depth_list = [0, 1, 5, 10, 15, 20]\n",
    "for d in depth_list:\n",
    "    data = simulate_young(9, 1, 9, iter_num=2, unitary_type=\"LRC\", depth=d)\n",
    "    np.savetxt(f\"data/LRC-{d}.csv\", data, delimiter=',')"
   ]
  },
  {
   "cell_type": "code",
   "execution_count": 11,
   "metadata": {},
   "outputs": [],
   "source": [
    "depth_list = [0, 1, 5, 10, 15, 20]\n",
    "for d in depth_list:\n",
    "    data = simulate_young(9, 1, 9, iter_num=10, unitary_type=\"measure\", depth=d)\n",
    "    np.savetxt(f\"data/LRC_measurement-{d}.csv\", data, delimiter=',')"
   ]
  },
  {
   "cell_type": "code",
   "execution_count": null,
   "metadata": {},
   "outputs": [],
   "source": [
    "depth_list = [0, 1, 5, 10, 15, 20]\n",
    "fig = plt.figure()\n",
    "ax = fig.add_subplot()\n",
    "for d in depth_list:\n",
    "    data = np.loadtxt(f\"data/LRC_measurement-{d}.csv\", delimiter=',')\n",
    "    ax.plot(range(10), np.average(data, axis=1), label=f\"{d}\")\n",
    "ax.legend()\n",
    "fig.show()\n"
   ]
  },
  {
   "cell_type": "code",
   "execution_count": null,
   "metadata": {},
   "outputs": [],
   "source": [
    "depth_list = [0, 1, 5, 10, 15, 20]\n",
    "fig = plt.figure()\n",
    "ax = fig.add_subplot()\n",
    "for d in depth_list:\n",
    "    data = np.loadtxt(f\"data/LRC_measurement-{d}.csv\", delimiter=',')\n",
    "    ax.plot(range(10), np.average(data, axis=1), label=f\"{d}\")\n",
    "ax.legend()\n",
    "fig.show()\n"
   ]
  },
  {
   "cell_type": "code",
   "execution_count": null,
   "metadata": {},
   "outputs": [],
   "source": [
    "# old black hole (additional)\n",
    "k = 1\n",
    "n = 4\n",
    "ave = []\n",
    "var = []\n",
    "for l in range(k, n+k):\n",
    "    mat_size = pow(2, n+k-l)\n",
    "    distance = []\n",
    "    for i in range(10):\n",
    "        dm = qulacs.DensityMatrix(n * 2)\n",
    "        circuit = old_blackhole(n, k)\n",
    "        circuit.update_quantum_state(dm)\n",
    "        dm2 = qulacs.state.partial_trace(dm, list(range(n + k - l, n * 2)))\n",
    "        mat_size = pow(2, n + k - l)\n",
    "        distance.append(dist(dm2.get_matrix(), np.identity(mat_size)/mat_size))\n",
    "    distance = np.array(distance)\n",
    "    ave.append(np.average(distance))\n",
    "    var.append(np.var(distance))"
   ]
  }
 ]
}